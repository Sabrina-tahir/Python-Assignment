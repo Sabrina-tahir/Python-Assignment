{
 "cells": [
  {
   "cell_type": "code",
   "execution_count": 1,
   "metadata": {},
   "outputs": [
    {
     "name": "stdout",
     "output_type": "stream",
     "text": [
      "Twinkle , twinkle , little star,\n",
      "\tHow i wonder what you are!\n",
      "\t\tUp above the world so high,\n",
      "\t\tlike a diamond in the sky.\n",
      "Twinkle , twinkle , little star,\n",
      "\tHow i wonder what you are!\n"
     ]
    }
   ],
   "source": [
    "print(\"Twinkle , twinkle , little star,\")\n",
    "print(\"\\tHow i wonder what you are!\")\n",
    "print(\"\\t\\tUp above the world so high,\")\n",
    "print(\"\\t\\tlike a diamond in the sky.\")\n",
    "print(\"Twinkle , twinkle , little star,\")\n",
    "print(\"\\tHow i wonder what you are!\")"
   ]
  },
  {
   "cell_type": "code",
   "execution_count": 2,
   "metadata": {},
   "outputs": [
    {
     "name": "stdout",
     "output_type": "stream",
     "text": [
      "3.7.4 (default, Aug  9 2019, 18:34:13) [MSC v.1915 64 bit (AMD64)]\n"
     ]
    }
   ],
   "source": [
    "import sys\n",
    "print(sys.version)"
   ]
  },
  {
   "cell_type": "code",
   "execution_count": 3,
   "metadata": {},
   "outputs": [
    {
     "name": "stdout",
     "output_type": "stream",
     "text": [
      "2019-11-03 01:33:30.132358\n"
     ]
    }
   ],
   "source": [
    "import datetime\n",
    "dateT = datetime.datetime.now()\n",
    "print(dateT)"
   ]
  },
  {
   "cell_type": "code",
   "execution_count": 5,
   "metadata": {},
   "outputs": [
    {
     "name": "stdout",
     "output_type": "stream",
     "text": [
      "enter radius of circle 7\n",
      "Area of the circle is  153.86\n"
     ]
    }
   ],
   "source": [
    "radius = int(input(\"enter radius of circle \"))\n",
    "area = 3.14*radius*radius\n",
    "print(\"Area of the circle is \",area)"
   ]
  },
  {
   "cell_type": "code",
   "execution_count": 8,
   "metadata": {},
   "outputs": [
    {
     "name": "stdout",
     "output_type": "stream",
     "text": [
      "your First Name :  Sabrina\n",
      "your last Name :  tahir\n",
      "anirbaS   rihat\n"
     ]
    }
   ],
   "source": [
    "fname = input(\"your First Name :  \")[::-1]\n",
    "lname = input(\"your last Name :  \")[::-1]\n",
    "print(fname,\" \",lname)\n"
   ]
  },
  {
   "cell_type": "code",
   "execution_count": 9,
   "metadata": {},
   "outputs": [
    {
     "name": "stdout",
     "output_type": "stream",
     "text": [
      "Enter Number 1 : 6\n",
      "Enter Number 2  : 9\n",
      "Sum OF 2 Numbers are :  15\n"
     ]
    }
   ],
   "source": [
    "num1 = int(input(\"Enter Number 1 : \"))\n",
    "num2 = int(input(\"Enter Number 2  : \"))\n",
    "\n",
    "print(\"Sum OF 2 Numbers are : \", num1+num2)"
   ]
  },
  {
   "cell_type": "code",
   "execution_count": null,
   "metadata": {},
   "outputs": [],
   "source": []
  }
 ],
 "metadata": {
  "kernelspec": {
   "display_name": "Python 3",
   "language": "python",
   "name": "python3"
  },
  "language_info": {
   "codemirror_mode": {
    "name": "ipython",
    "version": 3
   },
   "file_extension": ".py",
   "mimetype": "text/x-python",
   "name": "python",
   "nbconvert_exporter": "python",
   "pygments_lexer": "ipython3",
   "version": "3.7.4"
  }
 },
 "nbformat": 4,
 "nbformat_minor": 2
}
